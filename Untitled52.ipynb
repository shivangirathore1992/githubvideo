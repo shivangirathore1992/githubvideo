{
  "nbformat": 4,
  "nbformat_minor": 0,
  "metadata": {
    "colab": {
      "provenance": []
    },
    "kernelspec": {
      "name": "python3",
      "display_name": "Python 3"
    },
    "language_info": {
      "name": "python"
    }
  },
  "cells": [
    {
      "cell_type": "code",
      "execution_count": 1,
      "metadata": {
        "colab": {
          "base_uri": "https://localhost:8080/"
        },
        "id": "fo2K2HQUqt6M",
        "outputId": "3a72fd40-8633-41a5-ef7c-58147dfd129d"
      },
      "outputs": [
        {
          "output_type": "stream",
          "name": "stdout",
          "text": [
            "github\n"
          ]
        }
      ],
      "source": [
        "print(\"github\")"
      ]
    }
  ]
}